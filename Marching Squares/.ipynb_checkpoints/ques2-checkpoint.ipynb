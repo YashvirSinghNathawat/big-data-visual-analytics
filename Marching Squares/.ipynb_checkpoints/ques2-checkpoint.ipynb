{
 "cells": [
  {
   "cell_type": "code",
   "execution_count": 327,
   "metadata": {},
   "outputs": [],
   "source": [
    "from vtk import *\n",
    "import math"
   ]
  },
  {
   "cell_type": "code",
   "execution_count": 328,
   "metadata": {},
   "outputs": [],
   "source": [
    "phong_shading = input(\"Do you want Phong Shading or not (Y/N): \")"
   ]
  },
  {
   "cell_type": "code",
   "execution_count": 329,
   "metadata": {},
   "outputs": [],
   "source": [
    "reader = vtkXMLImageDataReader()\n",
    "reader.SetFileName('Data/Isabel_3D.vti')\n",
    "reader.Update()\n",
    "data = reader.GetOutput()"
   ]
  },
  {
   "cell_type": "code",
   "execution_count": 330,
   "metadata": {},
   "outputs": [
    {
     "data": {
      "text/plain": [
       "5"
      ]
     },
     "execution_count": 330,
     "metadata": {},
     "output_type": "execute_result"
    }
   ],
   "source": [
    "ctf = vtkColorTransferFunction()\n",
    "ctf.AddRGBPoint(-4931.54, 0, 1, 1)\n",
    "ctf.AddRGBPoint(-2508.95, 0, 0, 1)\n",
    "ctf.AddRGBPoint(-1873.90, 0, 0, 0.5)\n",
    "ctf.AddRGBPoint(-1027.16, 1, 0, 0)\n",
    "ctf.AddRGBPoint(-298.031, 1, 0.4, 0)\n",
    "ctf.AddRGBPoint(2594.97, 1, 1, 0)"
   ]
  },
  {
   "cell_type": "code",
   "execution_count": 331,
   "metadata": {},
   "outputs": [
    {
     "data": {
      "text/plain": [
       "2"
      ]
     },
     "execution_count": 331,
     "metadata": {},
     "output_type": "execute_result"
    }
   ],
   "source": [
    "#Create a transfer function mapping scalar value to opacity\n",
    "oTFun=vtkPiecewiseFunction()\n",
    "oTFun.AddPoint(-4931.54, 1.0)\n",
    "oTFun.AddPoint(101.815, 0.002)\n",
    "oTFun.AddPoint(2594.97, 0.0)"
   ]
  },
  {
   "cell_type": "code",
   "execution_count": 332,
   "metadata": {},
   "outputs": [],
   "source": [
    "volumeProperty = vtkVolumeProperty()\n",
    "volumeProperty.SetColor(ctf)\n",
    "volumeProperty.SetScalarOpacity(oTFun)\n",
    "\n",
    "if phong_shading=='Y':\n",
    "    volumeProperty.ShadeOn()\n",
    "else:\n",
    "    volumeProperty.ShadeOff()\n",
    "volumeProperty.SetInterpolationTypeToLinear()\n",
    "volumeProperty.SetAmbient(0.5)\n",
    "volumeProperty.SetDiffuse(0.5)\n",
    "volumeProperty.SetSpecular(0.5)\n"
   ]
  },
  {
   "cell_type": "code",
   "execution_count": 333,
   "metadata": {},
   "outputs": [],
   "source": [
    "volumeMapper = vtkSmartVolumeMapper()\n",
    "volumeMapper.SetInputData(data)"
   ]
  },
  {
   "cell_type": "code",
   "execution_count": 334,
   "metadata": {},
   "outputs": [],
   "source": [
    "volume = vtkVolume()\n",
    "volume.SetMapper(volumeMapper)\n",
    "volume.SetProperty(volumeProperty)"
   ]
  },
  {
   "cell_type": "code",
   "execution_count": 335,
   "metadata": {},
   "outputs": [],
   "source": [
    "outline = vtkOutlineFilter()\n",
    "outline.SetInputConnection(reader.GetOutputPort())\n",
    "outline_mapper = vtkPolyDataMapper()\n",
    "outline_mapper.SetInputConnection(outline.GetOutputPort())\n",
    "\n",
    "outActor = vtkActor()\n",
    "outActor.SetMapper(outline_mapper)\n",
    "outActor.GetProperty().SetColor(0,0,0)\n",
    "outActor.GetProperty().SetLineWidth(3)\n"
   ]
  },
  {
   "cell_type": "code",
   "execution_count": 337,
   "metadata": {},
   "outputs": [],
   "source": [
    "renWin = vtkRenderWindow()\n",
    "ren1 = vtkRenderer()\n",
    "ren1.SetBackground(255,255,255)\n",
    "ren1.AddActor(outActor)\n",
    "# ren1.AddActor(actor)\n",
    "# ren1.AddLight(light)\n",
    "ren1.AddViewProp(volume)\n",
    "ren1.ResetCamera()\n",
    "ren1.GetActiveCamera().SetClippingRange(1,100)\n",
    "renWin.AddRenderer(ren1)\n",
    "renWin.SetSize(1000,1000)\n",
    "\n",
    "iren = vtkRenderWindowInteractor()\n",
    "iren.SetRenderWindow(renWin)\n",
    "iren.SetInteractorStyle(vtkInteractorStyleTrackballCamera())\n",
    "renWin.Render()\n",
    "iren.Start()\n"
   ]
  },
  {
   "cell_type": "code",
   "execution_count": null,
   "metadata": {},
   "outputs": [],
   "source": []
  }
 ],
 "metadata": {
  "kernelspec": {
   "display_name": "Python 3 (ipykernel)",
   "language": "python",
   "name": "python3"
  },
  "language_info": {
   "codemirror_mode": {
    "name": "ipython",
    "version": 3
   },
   "file_extension": ".py",
   "mimetype": "text/x-python",
   "name": "python",
   "nbconvert_exporter": "python",
   "pygments_lexer": "ipython3",
   "version": "3.11.4"
  },
  "vscode": {
   "interpreter": {
    "hash": "e956c49ae0caa224b5fdd754cbc353d7e61c6c61f7329ee680c7f7b4f1b71a8e"
   }
  }
 },
 "nbformat": 4,
 "nbformat_minor": 2
}
