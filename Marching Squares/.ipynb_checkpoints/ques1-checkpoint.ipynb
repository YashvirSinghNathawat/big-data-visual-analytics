{
 "cells": [
  {
   "cell_type": "code",
   "execution_count": 14,
   "metadata": {},
   "outputs": [],
   "source": [
    "from vtk import *\n",
    "import math"
   ]
  },
  {
   "cell_type": "code",
   "execution_count": 15,
   "metadata": {},
   "outputs": [],
   "source": [
    "reader = vtkXMLImageDataReader()\n",
    "reader.SetFileName('Data/Isabel_2D.vti')\n",
    "reader.Update()\n",
    "data = reader.GetOutput()"
   ]
  },
  {
   "cell_type": "code",
   "execution_count": 16,
   "metadata": {},
   "outputs": [],
   "source": [
    "numCells = data.GetNumberOfCells()"
   ]
  },
  {
   "cell_type": "code",
   "execution_count": 17,
   "metadata": {},
   "outputs": [],
   "source": [
    "total_cells = vtkCellArray()\n",
    "total_points = vtkPoints()"
   ]
  },
  {
   "cell_type": "code",
   "execution_count": 18,
   "metadata": {},
   "outputs": [],
   "source": [
    "C = 480"
   ]
  },
  {
   "cell_type": "code",
   "execution_count": 19,
   "metadata": {},
   "outputs": [],
   "source": [
    "def checkCellType(cord1,cord2,cord3,cord4,C):\n",
    "    cnt = 0\n",
    "    if cord1>C:\n",
    "        cnt+=1\n",
    "    if cord2>C:\n",
    "        cnt+=1\n",
    "    if cord3>C:\n",
    "        cnt+=1\n",
    "    if cord4>C:\n",
    "        cnt+=1\n",
    "    return cnt"
   ]
  },
  {
   "cell_type": "code",
   "execution_count": 20,
   "metadata": {},
   "outputs": [],
   "source": [
    "def interpolation(cord1,cord2,pres1,pres2,C):\n",
    "    if pres1<pres2:\n",
    "        if C < pres1 or C>pres2:\n",
    "            return ()\n",
    "    elif pres2<pres1:\n",
    "        if C<pres2 or C>pres1:\n",
    "            return ()\n",
    "    if cord1[0]==cord2[0]:\n",
    "        return (cord1[0],(pres1-C)/(pres1-pres2)*(cord2[1]-cord1[1]) + cord1[1],cord1[2])\n",
    "    else:\n",
    "        return ((pres1-C)/(pres1-pres2)*(cord2[0]-cord1[0]) + cord1[0],cord1[1],cord1[2])"
   ]
  },
  {
   "cell_type": "code",
   "execution_count": 21,
   "metadata": {},
   "outputs": [
    {
     "name": "stdout",
     "output_type": "stream",
     "text": [
      "(0.5, 0, 0)\n",
      "(1, 0.5, 0)\n"
     ]
    }
   ],
   "source": [
    "cord1 = [0,0,0]\n",
    "cord2 = [1,0,0]\n",
    "cord4 = [1,1,0]\n",
    "print(interpolation(cord1,cord2,10,20,15))\n",
    "print(interpolation(cord2,cord4,20,10,15))"
   ]
  },
  {
   "cell_type": "code",
   "execution_count": 22,
   "metadata": {},
   "outputs": [],
   "source": [
    "for i in range(numCells):\n",
    "    cell = data.GetCell(i)\n",
    "    pid1 = cell.GetPointId(0)\n",
    "    pid2 = cell.GetPointId(1)\n",
    "    pid3 = cell.GetPointId(3)\n",
    "    pid4 = cell.GetPointId(2)\n",
    "\n",
    "    dataArr = data.GetPointData().GetArray('Pressure')\n",
    "    val1 = dataArr.GetTuple1(pid1)\n",
    "    val2 = dataArr.GetTuple1(pid2)\n",
    "    val3 = dataArr.GetTuple1(pid3)\n",
    "    val4 = dataArr.GetTuple1(pid4)\n",
    "    pressure_values = [val1,val2,val3,val4]\n",
    "\n",
    "\n",
    "    cord1 = data.GetPoint(pid1)\n",
    "    cord2 = data.GetPoint(pid2)\n",
    "    cord3 = data.GetPoint(pid3)\n",
    "    cord4 = data.GetPoint(pid4)\n",
    "    cord_values = [cord1,cord2,cord3,cord4]\n",
    "\n",
    "    type_1 = val1>C\n",
    "    type_2 = val2>C\n",
    "    type_3 = val3>C\n",
    "    type_4 = val4>C\n",
    "    type_values = [type_1,type_2,type_3,type_4]\n",
    "\n",
    "    black_count = checkCellType(val1,val2,val3,val4,C)\n",
    "    \n",
    "    if black_count==4 or black_count==0:\n",
    "        continue\n",
    "\n",
    "    elif black_count==1 or black_count==3:\n",
    "        cand = -1\n",
    "        \n",
    "        for j in range(4):\n",
    "            if type_values[(j-1+4)%4]!=type_values[j] and type_values[(j+1)%4]!=type_values[j]:\n",
    "                cand = j\n",
    "\n",
    "        point_1 = interpolation(cord_values[(cand-1+4)%4],cord_values[cand],pressure_values[(cand-1+4)%4],pressure_values[cand],C)\n",
    "        point_2 = interpolation(cord_values[(cand+1)%4],cord_values[cand],pressure_values[(cand+1)%4],pressure_values[cand],C)\n",
    "        \n",
    "        \n",
    "        if(point_1==() or point_2==()):\n",
    "            print(cord_values,pressure_values,type_values)\n",
    "            print(cand,(cand-1+4)%4,(cand+1+4)%4)\n",
    "            print(point_1,point_2)\n",
    "            continue\n",
    "\n",
    "        total_points.InsertNextPoint(point_1)\n",
    "        total_points.InsertNextPoint(point_2)\n",
    "\n",
    "\n",
    "        polyLine = vtkPolyLine()\n",
    "        polyLine.GetPointIds().SetNumberOfIds(2)    \n",
    "        polyLine.GetPointIds().SetId(0,  total_points.GetNumberOfPoints() - 2)\n",
    "        polyLine.GetPointIds().SetId(1,  total_points.GetNumberOfPoints() - 1)\n",
    "\n",
    "        total_cells.InsertNextCell(polyLine)\n",
    "\n",
    "    else:\n",
    "        type_1 = val1>C\n",
    "        type_2 = val2>C\n",
    "        type_3 = val3>C\n",
    "        type_4 = val4>C\n",
    "        if type_1!=type_2 and type_1!=type_4:\n",
    "            point_1 = ()\n",
    "            point_2 = ()\n",
    "            point_1 = interpolation(cord1,cord2,val1,val2,C)\n",
    "            point_2 = interpolation(cord2,cord3,val2,val3,C)\n",
    "            \n",
    "            if point_1 == () or point_2 == ():\n",
    "                continue\n",
    "\n",
    "        else:\n",
    "            point_1 = ()\n",
    "            point_2 = ()\n",
    "            if type_1==type_2:\n",
    "                point_1 = interpolation(cord1,cord4,val1,val4,C)\n",
    "                point_2 = interpolation(cord2,cord3,val2,val3,C)\n",
    "            else:\n",
    "                point_1 = interpolation(cord1,cord2,val1,val2,C)\n",
    "                point_2 = interpolation(cord3,cord4,val3,val4,C)\n",
    "            \n",
    "            if point_1 == () or point_2 == ():\n",
    "                continue\n",
    "        total_points.InsertNextPoint(point_1)\n",
    "        total_points.InsertNextPoint(point_2)\n",
    "\n",
    "        # print(point_1,point_2)\n",
    "        polyLine = vtkPolyLine()\n",
    "        polyLine.GetPointIds().SetNumberOfIds(2)    \n",
    "        polyLine.GetPointIds().SetId(0,  total_points.GetNumberOfPoints() - 2)\n",
    "        polyLine.GetPointIds().SetId(1,  total_points.GetNumberOfPoints() - 1)\n",
    "\n",
    "        total_cells.InsertNextCell(polyLine)\n",
    "        \n",
    "\n",
    "    "
   ]
  },
  {
   "cell_type": "code",
   "execution_count": 23,
   "metadata": {},
   "outputs": [],
   "source": [
    "pdata = vtkPolyData()\n",
    "\n",
    "pdata.SetPoints(total_points)\n",
    "pdata.SetLines(total_cells)\n",
    "# pdata.GetPointData().AddArray(dataArray)"
   ]
  },
  {
   "cell_type": "code",
   "execution_count": 24,
   "metadata": {},
   "outputs": [
    {
     "data": {
      "text/plain": [
       "1"
      ]
     },
     "execution_count": 24,
     "metadata": {},
     "output_type": "execute_result"
    }
   ],
   "source": [
    "### Store the polydata into a vtkpolydata file with extension .vtp\n",
    "####################################################################\n",
    "writer = vtkXMLPolyDataWriter()\n",
    "writer.SetInputData(pdata)\n",
    "writer.SetFileName('onecell2.vtp')\n",
    "writer.Write()"
   ]
  }
 ],
 "metadata": {
  "kernelspec": {
   "display_name": "Python 3 (ipykernel)",
   "language": "python",
   "name": "python3"
  },
  "language_info": {
   "codemirror_mode": {
    "name": "ipython",
    "version": 3
   },
   "file_extension": ".py",
   "mimetype": "text/x-python",
   "name": "python",
   "nbconvert_exporter": "python",
   "pygments_lexer": "ipython3",
   "version": "3.11.5"
  },
  "vscode": {
   "interpreter": {
    "hash": "e956c49ae0caa224b5fdd754cbc353d7e61c6c61f7329ee680c7f7b4f1b71a8e"
   }
  }
 },
 "nbformat": 4,
 "nbformat_minor": 2
}
