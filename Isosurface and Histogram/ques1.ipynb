{
 "cells": [
  {
   "cell_type": "code",
   "execution_count": null,
   "id": "03df2aae",
   "metadata": {},
   "outputs": [],
   "source": [
    "!pip install --upgrade jupyterlab-pygments jupyterlab-widgets jupyterlab ipywidgets==7.6.5"
   ]
  },
  {
   "cell_type": "code",
   "execution_count": 1,
   "id": "4dd4f519",
   "metadata": {},
   "outputs": [],
   "source": [
    "# Import Statements\n",
    "import plotly.graph_objects as go\n",
    "import plotly.express as px\n",
    "import vtk\n",
    "import numpy as np\n",
    "import ipywidgets as widgets\n",
    "from IPython.display import clear_output"
   ]
  },
  {
   "cell_type": "code",
   "execution_count": 2,
   "id": "aeee73bf",
   "metadata": {},
   "outputs": [],
   "source": [
    "# Read VTI File\n",
    "reader = vtk.vtkXMLImageDataReader()\n",
    "reader.SetFileName('./mixture.vti')\n",
    "reader.Update()\n",
    "\n",
    "# Get the VTK data\n",
    "data = reader.GetOutput()\n",
    "dims = data.GetDimensions()"
   ]
  },
  {
   "cell_type": "code",
   "execution_count": 3,
   "id": "3cfb1ab5",
   "metadata": {},
   "outputs": [
    {
     "name": "stdout",
     "output_type": "stream",
     "text": [
      "421875\n"
     ]
    }
   ],
   "source": [
    "# Get Total Number of Points\n",
    "numOfPoints = data.GetNumberOfPoints()\n",
    "print(numOfPoints)"
   ]
  },
  {
   "cell_type": "code",
   "execution_count": 4,
   "id": "27436c11",
   "metadata": {},
   "outputs": [
    {
     "name": "stdout",
     "output_type": "stream",
     "text": [
      "ImageFile\n"
     ]
    }
   ],
   "source": [
    "# Exploring mixture.vti file\n",
    "point_data = data.GetPointData()\n",
    "num_arrays = point_data.GetNumberOfArrays()\n",
    "array_name = point_data.GetArrayName(0)\n",
    "print(array_name)"
   ]
  },
  {
   "cell_type": "code",
   "execution_count": 5,
   "id": "d2c1019d",
   "metadata": {},
   "outputs": [],
   "source": [
    "# Get data_values\n",
    "val_arr = data.GetPointData().GetArray('ImageFile')"
   ]
  },
  {
   "cell_type": "code",
   "execution_count": 6,
   "id": "8a7d7662",
   "metadata": {},
   "outputs": [
    {
     "name": "stdout",
     "output_type": "stream",
     "text": [
      "421875 421875 421875 421875\n"
     ]
    }
   ],
   "source": [
    "# Getting x,y,z and data_values from mixture.vti \n",
    "x_values = []\n",
    "y_values = []\n",
    "z_values = []\n",
    "data_values = []\n",
    "for i in range(numOfPoints):\n",
    "    x,y,z = data.GetPoint(i)\n",
    "    x_values.append(x)\n",
    "    y_values.append(y)\n",
    "    z_values.append(z)\n",
    "    data_values.append(val_arr.GetValue(i))\n",
    "    \n",
    "print(len(x_values),len(y_values),len(z_values),len(data_values))"
   ]
  },
  {
   "cell_type": "code",
   "execution_count": 7,
   "id": "1c3e5521",
   "metadata": {},
   "outputs": [
    {
     "name": "stdout",
     "output_type": "stream",
     "text": [
      "-0.9935540556907654 0.43280163407325745\n"
     ]
    }
   ],
   "source": [
    "# Get the range of data_values\n",
    "data_min = np.min(data_values)\n",
    "data_max = np.max(data_values)\n",
    "print(data_min,data_max)"
   ]
  },
  {
   "cell_type": "code",
   "execution_count": 17,
   "id": "b9692c47",
   "metadata": {},
   "outputs": [],
   "source": [
    "# Making Isosurface object\n",
    "isosurface_data = go.Isosurface(\n",
    "    x = x_values,\n",
    "    y = y_values,\n",
    "    z = z_values,\n",
    "    value = data_values,\n",
    "    colorscale='plasma',   # Change colorscale here\n",
    "    isomin = 0,\n",
    "    isomax = 0,\n",
    "    showscale = False,\n",
    "    cmin = data_min,\n",
    "    cmax = data_max\n",
    ")\n"
   ]
  },
  {
   "cell_type": "code",
   "execution_count": 18,
   "id": "0319d5b3",
   "metadata": {},
   "outputs": [],
   "source": [
    "# Histogram Plot\n",
    "histogram_data = go.Histogram(x=data_values,nbinsx=30)"
   ]
  },
  {
   "cell_type": "code",
   "execution_count": 20,
   "id": "17c0ec5c",
   "metadata": {},
   "outputs": [
    {
     "data": {
      "application/vnd.jupyter.widget-view+json": {
       "model_id": "60bae30f2aea4d28b496d55da154a426",
       "version_major": 2,
       "version_minor": 0
      },
      "text/plain": [
       "VBox(children=(HBox(children=(FloatSlider(value=0.0, continuous_update=False, description='Isoval : ', layout=…"
      ]
     },
     "metadata": {},
     "output_type": "display_data"
    }
   ],
   "source": [
    "# Isosurface FigureWidget\n",
    "isosurface_figure_data = go.FigureWidget(data=isosurface_data)\n",
    "isosurface_figure_data.update_layout(autosize=False, \n",
    "                    width=500,\n",
    "                    height=500,\n",
    "                    scene=dict(\n",
    "                        xaxis = dict(\n",
    "                            showticklabels = False\n",
    "                        ),\n",
    "                        yaxis = dict(\n",
    "                            showticklabels = False\n",
    "                        ),\n",
    "                        zaxis = dict(\n",
    "                            showticklabels = False\n",
    "                        )\n",
    "                     )           \n",
    "                    )\n",
    "\n",
    "# Histogram Figure Widget\n",
    "histogram_figure_data = go.FigureWidget(data = [histogram_data])\n",
    "histogram_figure_data.update_layout(\n",
    "    xaxis_title=\"Vortex scalar values\",\n",
    "    yaxis_title=\"Frequency\",\n",
    "    showlegend=False,\n",
    "    autosize=False, \n",
    "    width=500, \n",
    "    height=500, \n",
    ")\n",
    "\n",
    "# Float Slider\n",
    "slider = widgets.FloatSlider(\n",
    "    value = 0.0,\n",
    "    min = data_min,\n",
    "    max = data_max,\n",
    "    step = 0.01,\n",
    "    description='Isoval : ',\n",
    "    continuous_update=False,\n",
    "    layout={'width': '400px'}\n",
    ")\n",
    "\n",
    "# Reset Button\n",
    "button = widgets.Button(description=\"Reset\")\n",
    "\n",
    "# Function for changing slide\n",
    "def update_isosurface(change):\n",
    "    isovalue = slider.value\n",
    "    isosurface_figure_data.update_traces(isomin=isovalue, isomax=isovalue)\n",
    "    # Change Histogram Data\n",
    "    ## Fetch range of isovalue = x then show (x-0.25)<=histo<=x+0.25\n",
    "    filtered_value = []\n",
    "    for val in data_values:\n",
    "        if val>=(isovalue - 0.25) and val<=(isovalue+0.25):\n",
    "            filtered_value.append(val)\n",
    "    ## Update the histogram\n",
    "    histogram_figure_data.update_traces(x = filtered_value)\n",
    "\n",
    "# Function for reset button\n",
    "def reset_handler(change):\n",
    "    slider.value = 0.0\n",
    "    isosurface_figure_data.update_traces(isomin=slider.value, isomax=slider.value)\n",
    "    ## Update the histogram\n",
    "    histogram_figure_data.update_traces(x = data_values)\n",
    "\n",
    "# Attach the event handler function to the slider's value change event\n",
    "slider.observe(update_isosurface, 'value')\n",
    "\n",
    "# Attach the event handler function to the buttons\n",
    "button.on_click(reset_handler)\n",
    "\n",
    "# Creating Layout\n",
    "top_part = widgets.HBox([slider,button])\n",
    "bottom_part = widgets.HBox([isosurface_figure_data,histogram_figure_data])\n",
    "main_part = widgets.VBox([top_part,bottom_part])\n",
    "display(main_part)"
   ]
  },
  {
   "cell_type": "code",
   "execution_count": null,
   "id": "2110fb42-a5a6-4a67-9c21-f13f5e6e8d04",
   "metadata": {},
   "outputs": [],
   "source": []
  }
 ],
 "metadata": {
  "kernelspec": {
   "display_name": "Python 3 (ipykernel)",
   "language": "python",
   "name": "python3"
  },
  "language_info": {
   "codemirror_mode": {
    "name": "ipython",
    "version": 3
   },
   "file_extension": ".py",
   "mimetype": "text/x-python",
   "name": "python",
   "nbconvert_exporter": "python",
   "pygments_lexer": "ipython3",
   "version": "3.11.5"
  }
 },
 "nbformat": 4,
 "nbformat_minor": 5
}
