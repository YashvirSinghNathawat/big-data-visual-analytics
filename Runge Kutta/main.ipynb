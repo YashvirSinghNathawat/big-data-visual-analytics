{
 "cells": [
  {
   "cell_type": "code",
   "execution_count": 3,
   "id": "a8f69e15-ee86-4197-8373-729ae0fa6d3c",
   "metadata": {},
   "outputs": [
    {
     "name": "stdout",
     "output_type": "stream",
     "text": [
      "Requirement already satisfied: vtk in c:\\users\\lenovo\\desktop\\project\\49_231110056_231110059_assignment3\\venv\\lib\\site-packages (9.3.0)\n",
      "Requirement already satisfied: matplotlib>=2.0.0 in c:\\users\\lenovo\\desktop\\project\\49_231110056_231110059_assignment3\\venv\\lib\\site-packages (from vtk) (3.8.4)\n",
      "Requirement already satisfied: contourpy>=1.0.1 in c:\\users\\lenovo\\desktop\\project\\49_231110056_231110059_assignment3\\venv\\lib\\site-packages (from matplotlib>=2.0.0->vtk) (1.2.1)\n",
      "Requirement already satisfied: cycler>=0.10 in c:\\users\\lenovo\\desktop\\project\\49_231110056_231110059_assignment3\\venv\\lib\\site-packages (from matplotlib>=2.0.0->vtk) (0.12.1)\n",
      "Requirement already satisfied: fonttools>=4.22.0 in c:\\users\\lenovo\\desktop\\project\\49_231110056_231110059_assignment3\\venv\\lib\\site-packages (from matplotlib>=2.0.0->vtk) (4.51.0)\n",
      "Requirement already satisfied: kiwisolver>=1.3.1 in c:\\users\\lenovo\\desktop\\project\\49_231110056_231110059_assignment3\\venv\\lib\\site-packages (from matplotlib>=2.0.0->vtk) (1.4.5)\n",
      "Requirement already satisfied: numpy>=1.21 in c:\\users\\lenovo\\desktop\\project\\49_231110056_231110059_assignment3\\venv\\lib\\site-packages (from matplotlib>=2.0.0->vtk) (1.26.4)\n",
      "Requirement already satisfied: packaging>=20.0 in c:\\users\\lenovo\\desktop\\project\\49_231110056_231110059_assignment3\\venv\\lib\\site-packages (from matplotlib>=2.0.0->vtk) (24.0)\n",
      "Requirement already satisfied: pillow>=8 in c:\\users\\lenovo\\desktop\\project\\49_231110056_231110059_assignment3\\venv\\lib\\site-packages (from matplotlib>=2.0.0->vtk) (10.3.0)\n",
      "Requirement already satisfied: pyparsing>=2.3.1 in c:\\users\\lenovo\\desktop\\project\\49_231110056_231110059_assignment3\\venv\\lib\\site-packages (from matplotlib>=2.0.0->vtk) (3.1.2)\n",
      "Requirement already satisfied: python-dateutil>=2.7 in c:\\users\\lenovo\\desktop\\project\\49_231110056_231110059_assignment3\\venv\\lib\\site-packages (from matplotlib>=2.0.0->vtk) (2.9.0.post0)\n",
      "Requirement already satisfied: six>=1.5 in c:\\users\\lenovo\\desktop\\project\\49_231110056_231110059_assignment3\\venv\\lib\\site-packages (from python-dateutil>=2.7->matplotlib>=2.0.0->vtk) (1.16.0)\n"
     ]
    },
    {
     "name": "stderr",
     "output_type": "stream",
     "text": [
      "\n",
      "[notice] A new release of pip is available: 23.1.2 -> 24.0\n",
      "[notice] To update, run: python.exe -m pip install --upgrade pip\n"
     ]
    }
   ],
   "source": [
    "!pip install vtk"
   ]
  },
  {
   "cell_type": "code",
   "execution_count": 1,
   "id": "61860c21-9e8a-462b-97d0-a763699cb472",
   "metadata": {},
   "outputs": [],
   "source": [
    "import vtk\n",
    "import numpy as np"
   ]
  },
  {
   "cell_type": "code",
   "execution_count": 2,
   "id": "e00878a9-44fd-4969-b4e8-23ead97aaeed",
   "metadata": {},
   "outputs": [
    {
     "name": "stdin",
     "output_type": "stream",
     "text": [
      "Enter x coordinate of seed location:  0\n",
      "Enter y coordinate of seed location:  0\n",
      "Enter z coordinate of seed location:  7\n"
     ]
    },
    {
     "name": "stdout",
     "output_type": "stream",
     "text": [
      "638\n",
      "Streamline file created successfully.\n"
     ]
    }
   ],
   "source": [
    "import vtk\n",
    "import numpy as np\n",
    "\n",
    "def interpolate_vector(field_data, point):\n",
    "    \"\"\"\n",
    "    Interpolate vector at a given point using VTKProbeFilter.\n",
    "    \"\"\"\n",
    "    points = vtk.vtkPoints()\n",
    "    points.InsertNextPoint(point[0],point[1],point[2])\n",
    "    pointsPolydata = vtk.vtkPolyData()\n",
    "    pointsPolydata.SetPoints(points)\n",
    "\n",
    "    probe = vtk.vtkProbeFilter()\n",
    "    probe.SetInputData(pointsPolydata)\n",
    "    probe.SetSourceData(field_data)\n",
    "    probe.Update()\n",
    "\n",
    "    interpolated_data = probe.GetOutput()\n",
    "\n",
    "    #num_arrays = interpolated_data.GetPointData().GetNumberOfArrays()\n",
    "    #print(\"Number of arrays in interpolated data:\", num_arrays)\n",
    "    #for i in range(num_arrays):\n",
    "    #    array_name = interpolated_data.GetPointData().GetArrayName(i)\n",
    "    #    print(\"Array name:\", array_name)\n",
    "\n",
    "    interpolated_vector = interpolated_data.GetPointData().GetArray(\"vectors\")\n",
    "    vector = interpolated_vector.GetTuple(0)  # Assuming only one point is probed\n",
    "\n",
    "    return vector\n",
    "\n",
    "def rk4_integrate(field_data, seed, step_size, max_steps):\n",
    "    \"\"\"\n",
    "    Perform RK4 integration to generate a streamline.\n",
    "    \"\"\"\n",
    "    streamline_points = [seed]\n",
    "\n",
    "    for _ in range(max_steps):\n",
    "        current_point = streamline_points[-1]\n",
    "        k1 = step_size*np.array(interpolate_vector(field_data, current_point))\n",
    "\n",
    "        k2_point = current_point + 0.5 * k1\n",
    "        k2 = step_size*np.array(interpolate_vector(field_data, k2_point))\n",
    "\n",
    "        k3_point = current_point + 0.5 * k2\n",
    "        k3 = step_size*np.array(interpolate_vector(field_data, k3_point))\n",
    "\n",
    "        k4_point = current_point +  k3\n",
    "        k4 = step_size * np.array(interpolate_vector(field_data, k4_point))\n",
    "\n",
    "        next_point = current_point + (k1 + 2*k2 + 2*k3 + k4)/6.0\n",
    "\n",
    "        # Check if next point is within bounds\n",
    "        bounds = field_data.GetBounds()\n",
    "        if (bounds[0] <= next_point[0] <= bounds[1] and\n",
    "            bounds[2] <= next_point[1] <= bounds[3] and\n",
    "            bounds[4] <= next_point[2] <= bounds[5]):\n",
    "            streamline_points.append(next_point)\n",
    "        else:\n",
    "            break\n",
    "\n",
    "    return np.array(streamline_points)\n",
    "\n",
    "def create_vtp_file(streamline_points, filename):\n",
    "    \"\"\"\n",
    "    Create a VTKPolyData (.vtp) file from the streamline points.\n",
    "    \"\"\"\n",
    "    points = vtk.vtkPoints()\n",
    "    lines = vtk.vtkCellArray()\n",
    "\n",
    "    for point in streamline_points:\n",
    "        points.InsertNextPoint(point)\n",
    "\n",
    "    for i in range(len(streamline_points) - 1):\n",
    "        line = vtk.vtkLine()\n",
    "        line.GetPointIds().SetId(0, i)\n",
    "        line.GetPointIds().SetId(1, i + 1)\n",
    "        lines.InsertNextCell(line)\n",
    "\n",
    "    polydata = vtk.vtkPolyData()\n",
    "    polydata.SetPoints(points)\n",
    "    polydata.SetLines(lines)\n",
    "\n",
    "    writer = vtk.vtkXMLPolyDataWriter()\n",
    "    writer.SetFileName(filename)\n",
    "    writer.SetInputData(polydata)\n",
    "    writer.Write()\n",
    "\n",
    "if __name__ == \"__main__\":\n",
    "    # Load vector field data\n",
    "    reader = vtk.vtkXMLImageDataReader()\n",
    "    reader.SetFileName(\"tornado3d_vector.vti\")  # Replace with your file path\n",
    "    reader.Update()\n",
    "    field_data = reader.GetOutput()\n",
    "\n",
    "    # Get seed location from user\n",
    "    seed_x = float(input(\"Enter x coordinate of seed location: \"))\n",
    "    seed_y = float(input(\"Enter y coordinate of seed location: \"))\n",
    "    seed_z = float(input(\"Enter z coordinate of seed location: \"))\n",
    "    seed = np.array([seed_x, seed_y, seed_z])\n",
    "\n",
    "    # Parameters\n",
    "    step_size = 0.05\n",
    "    max_steps = 1000\n",
    "\n",
    "    # Perform RK4 integration\n",
    "    streamline_forward = rk4_integrate(field_data, seed, step_size, max_steps)\n",
    "    streamline_backward = rk4_integrate(field_data, seed, -step_size, max_steps)[::-1]  # Reverse the backward streamline\n",
    "\n",
    "    # Combine forward and backward streamlines\n",
    "    streamline_points = np.concatenate((streamline_backward[:-1], streamline_forward))\n",
    "    print(len(streamline_points))\n",
    "    \n",
    "    # Create VTP file\n",
    "    create_vtp_file(streamline_points, \"main.vtp\")\n",
    "    print(\"Streamline file created successfully.\")\n"
   ]
  },
  {
   "cell_type": "code",
   "execution_count": null,
   "id": "512c163d-4038-4931-908a-97f3e2d8784e",
   "metadata": {},
   "outputs": [],
   "source": []
  },
  {
   "cell_type": "code",
   "execution_count": null,
   "id": "963041c0-078b-4577-af57-7ffef7cf5a1c",
   "metadata": {},
   "outputs": [],
   "source": []
  }
 ],
 "metadata": {
  "kernelspec": {
   "display_name": "Python 3 (ipykernel)",
   "language": "python",
   "name": "python3"
  },
  "language_info": {
   "codemirror_mode": {
    "name": "ipython",
    "version": 3
   },
   "file_extension": ".py",
   "mimetype": "text/x-python",
   "name": "python",
   "nbconvert_exporter": "python",
   "pygments_lexer": "ipython3",
   "version": "3.11.4"
  }
 },
 "nbformat": 4,
 "nbformat_minor": 5
}
